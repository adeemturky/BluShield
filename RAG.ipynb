{
  "cells": [
    {
      "cell_type": "code",
      "execution_count": null,
      "id": "-Xzl4TuE-q4G",
      "metadata": {
        "colab": {
          "base_uri": "https://localhost:8080/"
        },
        "id": "-Xzl4TuE-q4G",
        "outputId": "380bb797-a40e-4a4d-ab10-599cc8ade983"
      },
      "outputs": [
        {
          "name": "stdout",
          "output_type": "stream",
          "text": [
            "Collecting snowflake-snowpark-python\n",
            "  Downloading snowflake_snowpark_python-1.26.0-py3-none-any.whl.metadata (113 kB)\n",
            "\u001b[?25l     \u001b[90m━━━━━━━━━━━━━━━━━━━━━━━━━━━━━━━━━━━━━━━━\u001b[0m \u001b[32m0.0/113.8 kB\u001b[0m \u001b[31m?\u001b[0m eta \u001b[36m-:--:--\u001b[0m\r\u001b[2K     \u001b[91m━━━━━━━━━━━━━━\u001b[0m\u001b[90m╺\u001b[0m\u001b[90m━━━━━━━━━━━━━━━━━━━━━━━━━\u001b[0m \u001b[32m41.0/113.8 kB\u001b[0m \u001b[31m2.8 MB/s\u001b[0m eta \u001b[36m0:00:01\u001b[0m\r\u001b[2K     \u001b[91m━━━━━━━━━━━━━━━━━━━━━━━━━━━━━━━━━━━━━━━\u001b[0m\u001b[91m╸\u001b[0m \u001b[32m112.6/113.8 kB\u001b[0m \u001b[31m1.7 MB/s\u001b[0m eta \u001b[36m0:00:01\u001b[0m\r\u001b[2K     \u001b[90m━━━━━━━━━━━━━━━━━━━━━━━━━━━━━━━━━━━━━━━━\u001b[0m \u001b[32m113.8/113.8 kB\u001b[0m \u001b[31m1.3 MB/s\u001b[0m eta \u001b[36m0:00:00\u001b[0m\n",
            "\u001b[?25hRequirement already satisfied: setuptools>=40.6.0 in /usr/local/lib/python3.10/dist-packages (from snowflake-snowpark-python) (75.1.0)\n",
            "Requirement already satisfied: wheel in /usr/local/lib/python3.10/dist-packages (from snowflake-snowpark-python) (0.45.1)\n",
            "Collecting snowflake-connector-python<4.0.0,>=3.12.0 (from snowflake-snowpark-python)\n",
            "  Downloading snowflake_connector_python-3.12.4-cp310-cp310-manylinux_2_17_x86_64.manylinux2014_x86_64.whl.metadata (65 kB)\n",
            "\u001b[2K     \u001b[90m━━━━━━━━━━━━━━━━━━━━━━━━━━━━━━━━━━━━━━━━\u001b[0m \u001b[32m65.9/65.9 kB\u001b[0m \u001b[31m1.1 MB/s\u001b[0m eta \u001b[36m0:00:00\u001b[0m\n",
            "\u001b[?25hRequirement already satisfied: typing-extensions<5.0.0,>=4.1.0 in /usr/local/lib/python3.10/dist-packages (from snowflake-snowpark-python) (4.12.2)\n",
            "Requirement already satisfied: pyyaml in /usr/local/lib/python3.10/dist-packages (from snowflake-snowpark-python) (6.0.2)\n",
            "Collecting cloudpickle!=2.1.0,!=2.2.0,<=2.2.1,>=1.6.0 (from snowflake-snowpark-python)\n",
            "  Downloading cloudpickle-2.2.1-py3-none-any.whl.metadata (6.9 kB)\n",
            "Requirement already satisfied: protobuf<6,>=3.20 in /usr/local/lib/python3.10/dist-packages (from snowflake-snowpark-python) (4.25.5)\n",
            "Requirement already satisfied: python-dateutil in /usr/local/lib/python3.10/dist-packages (from snowflake-snowpark-python) (2.8.2)\n",
            "Requirement already satisfied: tzlocal in /usr/local/lib/python3.10/dist-packages (from snowflake-snowpark-python) (5.2)\n",
            "Collecting asn1crypto<2.0.0,>0.24.0 (from snowflake-connector-python<4.0.0,>=3.12.0->snowflake-snowpark-python)\n",
            "  Downloading asn1crypto-1.5.1-py2.py3-none-any.whl.metadata (13 kB)\n",
            "Requirement already satisfied: cffi<2.0.0,>=1.9 in /usr/local/lib/python3.10/dist-packages (from snowflake-connector-python<4.0.0,>=3.12.0->snowflake-snowpark-python) (1.17.1)\n",
            "Requirement already satisfied: cryptography>=3.1.0 in /usr/local/lib/python3.10/dist-packages (from snowflake-connector-python<4.0.0,>=3.12.0->snowflake-snowpark-python) (43.0.3)\n",
            "Requirement already satisfied: pyOpenSSL<25.0.0,>=22.0.0 in /usr/local/lib/python3.10/dist-packages (from snowflake-connector-python<4.0.0,>=3.12.0->snowflake-snowpark-python) (24.2.1)\n",
            "Requirement already satisfied: pyjwt<3.0.0 in /usr/local/lib/python3.10/dist-packages (from snowflake-connector-python<4.0.0,>=3.12.0->snowflake-snowpark-python) (2.10.1)\n",
            "Requirement already satisfied: pytz in /usr/local/lib/python3.10/dist-packages (from snowflake-connector-python<4.0.0,>=3.12.0->snowflake-snowpark-python) (2024.2)\n",
            "Requirement already satisfied: requests<3.0.0 in /usr/local/lib/python3.10/dist-packages (from snowflake-connector-python<4.0.0,>=3.12.0->snowflake-snowpark-python) (2.32.3)\n",
            "Requirement already satisfied: packaging in /usr/local/lib/python3.10/dist-packages (from snowflake-connector-python<4.0.0,>=3.12.0->snowflake-snowpark-python) (24.2)\n",
            "Requirement already satisfied: charset_normalizer<4,>=2 in /usr/local/lib/python3.10/dist-packages (from snowflake-connector-python<4.0.0,>=3.12.0->snowflake-snowpark-python) (3.4.0)\n",
            "Requirement already satisfied: idna<4,>=2.5 in /usr/local/lib/python3.10/dist-packages (from snowflake-connector-python<4.0.0,>=3.12.0->snowflake-snowpark-python) (3.10)\n",
            "Requirement already satisfied: certifi>=2017.4.17 in /usr/local/lib/python3.10/dist-packages (from snowflake-connector-python<4.0.0,>=3.12.0->snowflake-snowpark-python) (2024.12.14)\n",
            "Requirement already satisfied: filelock<4,>=3.5 in /usr/local/lib/python3.10/dist-packages (from snowflake-connector-python<4.0.0,>=3.12.0->snowflake-snowpark-python) (3.16.1)\n",
            "Collecting sortedcontainers>=2.4.0 (from snowflake-connector-python<4.0.0,>=3.12.0->snowflake-snowpark-python)\n",
            "  Downloading sortedcontainers-2.4.0-py2.py3-none-any.whl.metadata (10 kB)\n",
            "Requirement already satisfied: platformdirs<5.0.0,>=2.6.0 in /usr/local/lib/python3.10/dist-packages (from snowflake-connector-python<4.0.0,>=3.12.0->snowflake-snowpark-python) (4.3.6)\n",
            "Collecting tomlkit (from snowflake-connector-python<4.0.0,>=3.12.0->snowflake-snowpark-python)\n",
            "  Downloading tomlkit-0.13.2-py3-none-any.whl.metadata (2.7 kB)\n",
            "Requirement already satisfied: six>=1.5 in /usr/local/lib/python3.10/dist-packages (from python-dateutil->snowflake-snowpark-python) (1.17.0)\n",
            "Requirement already satisfied: pycparser in /usr/local/lib/python3.10/dist-packages (from cffi<2.0.0,>=1.9->snowflake-connector-python<4.0.0,>=3.12.0->snowflake-snowpark-python) (2.22)\n",
            "Requirement already satisfied: urllib3<3,>=1.21.1 in /usr/local/lib/python3.10/dist-packages (from requests<3.0.0->snowflake-connector-python<4.0.0,>=3.12.0->snowflake-snowpark-python) (2.2.3)\n",
            "Downloading snowflake_snowpark_python-1.26.0-py3-none-any.whl (1.5 MB)\n",
            "\u001b[2K   \u001b[90m━━━━━━━━━━━━━━━━━━━━━━━━━━━━━━━━━━━━━━━━\u001b[0m \u001b[32m1.5/1.5 MB\u001b[0m \u001b[31m4.0 MB/s\u001b[0m eta \u001b[36m0:00:00\u001b[0m\n",
            "\u001b[?25hDownloading cloudpickle-2.2.1-py3-none-any.whl (25 kB)\n",
            "Downloading snowflake_connector_python-3.12.4-cp310-cp310-manylinux_2_17_x86_64.manylinux2014_x86_64.whl (2.5 MB)\n",
            "\u001b[2K   \u001b[90m━━━━━━━━━━━━━━━━━━━━━━━━━━━━━━━━━━━━━━━━\u001b[0m \u001b[32m2.5/2.5 MB\u001b[0m \u001b[31m2.8 MB/s\u001b[0m eta \u001b[36m0:00:00\u001b[0m\n",
            "\u001b[?25hDownloading asn1crypto-1.5.1-py2.py3-none-any.whl (105 kB)\n",
            "\u001b[2K   \u001b[90m━━━━━━━━━━━━━━━━━━━━━━━━━━━━━━━━━━━━━━━━\u001b[0m \u001b[32m105.0/105.0 kB\u001b[0m \u001b[31m2.3 MB/s\u001b[0m eta \u001b[36m0:00:00\u001b[0m\n",
            "\u001b[?25hDownloading sortedcontainers-2.4.0-py2.py3-none-any.whl (29 kB)\n",
            "Downloading tomlkit-0.13.2-py3-none-any.whl (37 kB)\n",
            "Installing collected packages: sortedcontainers, asn1crypto, tomlkit, cloudpickle, snowflake-connector-python, snowflake-snowpark-python\n",
            "  Attempting uninstall: cloudpickle\n",
            "    Found existing installation: cloudpickle 3.1.0\n",
            "    Uninstalling cloudpickle-3.1.0:\n",
            "      Successfully uninstalled cloudpickle-3.1.0\n",
            "\u001b[31mERROR: pip's dependency resolver does not currently take into account all the packages that are installed. This behaviour is the source of the following dependency conflicts.\n",
            "dask 2024.10.0 requires cloudpickle>=3.0.0, but you have cloudpickle 2.2.1 which is incompatible.\u001b[0m\u001b[31m\n",
            "\u001b[0mSuccessfully installed asn1crypto-1.5.1 cloudpickle-2.2.1 snowflake-connector-python-3.12.4 snowflake-snowpark-python-1.26.0 sortedcontainers-2.4.0 tomlkit-0.13.2\n",
            "Requirement already satisfied: snowflake-connector-python in /usr/local/lib/python3.10/dist-packages (3.12.4)\n",
            "Requirement already satisfied: asn1crypto<2.0.0,>0.24.0 in /usr/local/lib/python3.10/dist-packages (from snowflake-connector-python) (1.5.1)\n",
            "Requirement already satisfied: cffi<2.0.0,>=1.9 in /usr/local/lib/python3.10/dist-packages (from snowflake-connector-python) (1.17.1)\n",
            "Requirement already satisfied: cryptography>=3.1.0 in /usr/local/lib/python3.10/dist-packages (from snowflake-connector-python) (43.0.3)\n",
            "Requirement already satisfied: pyOpenSSL<25.0.0,>=22.0.0 in /usr/local/lib/python3.10/dist-packages (from snowflake-connector-python) (24.2.1)\n",
            "Requirement already satisfied: pyjwt<3.0.0 in /usr/local/lib/python3.10/dist-packages (from snowflake-connector-python) (2.10.1)\n",
            "Requirement already satisfied: pytz in /usr/local/lib/python3.10/dist-packages (from snowflake-connector-python) (2024.2)\n",
            "Requirement already satisfied: requests<3.0.0 in /usr/local/lib/python3.10/dist-packages (from snowflake-connector-python) (2.32.3)\n",
            "Requirement already satisfied: packaging in /usr/local/lib/python3.10/dist-packages (from snowflake-connector-python) (24.2)\n",
            "Requirement already satisfied: charset_normalizer<4,>=2 in /usr/local/lib/python3.10/dist-packages (from snowflake-connector-python) (3.4.0)\n",
            "Requirement already satisfied: idna<4,>=2.5 in /usr/local/lib/python3.10/dist-packages (from snowflake-connector-python) (3.10)\n",
            "Requirement already satisfied: certifi>=2017.4.17 in /usr/local/lib/python3.10/dist-packages (from snowflake-connector-python) (2024.12.14)\n",
            "Requirement already satisfied: typing_extensions<5,>=4.3 in /usr/local/lib/python3.10/dist-packages (from snowflake-connector-python) (4.12.2)\n",
            "Requirement already satisfied: filelock<4,>=3.5 in /usr/local/lib/python3.10/dist-packages (from snowflake-connector-python) (3.16.1)\n",
            "Requirement already satisfied: sortedcontainers>=2.4.0 in /usr/local/lib/python3.10/dist-packages (from snowflake-connector-python) (2.4.0)\n",
            "Requirement already satisfied: platformdirs<5.0.0,>=2.6.0 in /usr/local/lib/python3.10/dist-packages (from snowflake-connector-python) (4.3.6)\n",
            "Requirement already satisfied: tomlkit in /usr/local/lib/python3.10/dist-packages (from snowflake-connector-python) (0.13.2)\n",
            "Requirement already satisfied: pycparser in /usr/local/lib/python3.10/dist-packages (from cffi<2.0.0,>=1.9->snowflake-connector-python) (2.22)\n",
            "Requirement already satisfied: urllib3<3,>=1.21.1 in /usr/local/lib/python3.10/dist-packages (from requests<3.0.0->snowflake-connector-python) (2.2.3)\n",
            "Collecting snowflake\n",
            "  Downloading snowflake-1.0.2-py3-none-any.whl.metadata (1.9 kB)\n",
            "Collecting snowflake-core==1.0.2 (from snowflake)\n",
            "  Downloading snowflake_core-1.0.2-py3-none-any.whl.metadata (1.8 kB)\n",
            "Collecting snowflake-legacy (from snowflake)\n",
            "  Downloading snowflake_legacy-1.0.0-py3-none-any.whl.metadata (2.5 kB)\n",
            "Requirement already satisfied: atpublic>=4 in /usr/local/lib/python3.10/dist-packages (from snowflake-core==1.0.2->snowflake) (4.1.0)\n",
            "Requirement already satisfied: pydantic>=2 in /usr/local/lib/python3.10/dist-packages (from snowflake-core==1.0.2->snowflake) (2.10.3)\n",
            "Requirement already satisfied: python-dateutil>=2.8.2 in /usr/local/lib/python3.10/dist-packages (from snowflake-core==1.0.2->snowflake) (2.8.2)\n",
            "Requirement already satisfied: pyyaml in /usr/local/lib/python3.10/dist-packages (from snowflake-core==1.0.2->snowflake) (6.0.2)\n",
            "Requirement already satisfied: requests in /usr/local/lib/python3.10/dist-packages (from snowflake-core==1.0.2->snowflake) (2.32.3)\n",
            "Requirement already satisfied: snowflake-connector-python in /usr/local/lib/python3.10/dist-packages (from snowflake-core==1.0.2->snowflake) (3.12.4)\n",
            "Requirement already satisfied: urllib3 in /usr/local/lib/python3.10/dist-packages (from snowflake-core==1.0.2->snowflake) (2.2.3)\n",
            "Requirement already satisfied: annotated-types>=0.6.0 in /usr/local/lib/python3.10/dist-packages (from pydantic>=2->snowflake-core==1.0.2->snowflake) (0.7.0)\n",
            "Requirement already satisfied: pydantic-core==2.27.1 in /usr/local/lib/python3.10/dist-packages (from pydantic>=2->snowflake-core==1.0.2->snowflake) (2.27.1)\n",
            "Requirement already satisfied: typing-extensions>=4.12.2 in /usr/local/lib/python3.10/dist-packages (from pydantic>=2->snowflake-core==1.0.2->snowflake) (4.12.2)\n",
            "Requirement already satisfied: six>=1.5 in /usr/local/lib/python3.10/dist-packages (from python-dateutil>=2.8.2->snowflake-core==1.0.2->snowflake) (1.17.0)\n",
            "Requirement already satisfied: charset-normalizer<4,>=2 in /usr/local/lib/python3.10/dist-packages (from requests->snowflake-core==1.0.2->snowflake) (3.4.0)\n",
            "Requirement already satisfied: idna<4,>=2.5 in /usr/local/lib/python3.10/dist-packages (from requests->snowflake-core==1.0.2->snowflake) (3.10)\n",
            "Requirement already satisfied: certifi>=2017.4.17 in /usr/local/lib/python3.10/dist-packages (from requests->snowflake-core==1.0.2->snowflake) (2024.12.14)\n",
            "Requirement already satisfied: asn1crypto<2.0.0,>0.24.0 in /usr/local/lib/python3.10/dist-packages (from snowflake-connector-python->snowflake-core==1.0.2->snowflake) (1.5.1)\n",
            "Requirement already satisfied: cffi<2.0.0,>=1.9 in /usr/local/lib/python3.10/dist-packages (from snowflake-connector-python->snowflake-core==1.0.2->snowflake) (1.17.1)\n",
            "Requirement already satisfied: cryptography>=3.1.0 in /usr/local/lib/python3.10/dist-packages (from snowflake-connector-python->snowflake-core==1.0.2->snowflake) (43.0.3)\n",
            "Requirement already satisfied: pyOpenSSL<25.0.0,>=22.0.0 in /usr/local/lib/python3.10/dist-packages (from snowflake-connector-python->snowflake-core==1.0.2->snowflake) (24.2.1)\n",
            "Requirement already satisfied: pyjwt<3.0.0 in /usr/local/lib/python3.10/dist-packages (from snowflake-connector-python->snowflake-core==1.0.2->snowflake) (2.10.1)\n",
            "Requirement already satisfied: pytz in /usr/local/lib/python3.10/dist-packages (from snowflake-connector-python->snowflake-core==1.0.2->snowflake) (2024.2)\n",
            "Requirement already satisfied: packaging in /usr/local/lib/python3.10/dist-packages (from snowflake-connector-python->snowflake-core==1.0.2->snowflake) (24.2)\n",
            "Requirement already satisfied: filelock<4,>=3.5 in /usr/local/lib/python3.10/dist-packages (from snowflake-connector-python->snowflake-core==1.0.2->snowflake) (3.16.1)\n",
            "Requirement already satisfied: sortedcontainers>=2.4.0 in /usr/local/lib/python3.10/dist-packages (from snowflake-connector-python->snowflake-core==1.0.2->snowflake) (2.4.0)\n",
            "Requirement already satisfied: platformdirs<5.0.0,>=2.6.0 in /usr/local/lib/python3.10/dist-packages (from snowflake-connector-python->snowflake-core==1.0.2->snowflake) (4.3.6)\n",
            "Requirement already satisfied: tomlkit in /usr/local/lib/python3.10/dist-packages (from snowflake-connector-python->snowflake-core==1.0.2->snowflake) (0.13.2)\n",
            "Requirement already satisfied: pycparser in /usr/local/lib/python3.10/dist-packages (from cffi<2.0.0,>=1.9->snowflake-connector-python->snowflake-core==1.0.2->snowflake) (2.22)\n",
            "Downloading snowflake-1.0.2-py3-none-any.whl (5.6 kB)\n",
            "Downloading snowflake_core-1.0.2-py3-none-any.whl (1.6 MB)\n",
            "\u001b[2K   \u001b[90m━━━━━━━━━━━━━━━━━━━━━━━━━━━━━━━━━━━━━━━━\u001b[0m \u001b[32m1.6/1.6 MB\u001b[0m \u001b[31m14.7 MB/s\u001b[0m eta \u001b[36m0:00:00\u001b[0m\n",
            "\u001b[?25hDownloading snowflake_legacy-1.0.0-py3-none-any.whl (3.1 kB)\n",
            "Installing collected packages: snowflake-legacy, snowflake-core, snowflake\n",
            "Successfully installed snowflake-1.0.2 snowflake-core-1.0.2 snowflake-legacy-1.0.0\n",
            "Requirement already satisfied: pip in /usr/local/lib/python3.10/dist-packages (24.1.2)\n",
            "\u001b[31mERROR: Could not find a version that satisfies the requirement install (from versions: none)\u001b[0m\u001b[31m\n",
            "\u001b[0m\u001b[31mERROR: No matching distribution found for install\u001b[0m\u001b[31m\n",
            "\u001b[0m"
          ]
        }
      ],
      "source": [
        "!pip install snowflake-snowpark-python\n",
        "!pip install snowflake-connector-python\n",
        "!pip install snowflake\n",
        "!pip install pip install snowflake-connector-python==2.8.3"
      ]
    },
    {
      "cell_type": "code",
      "execution_count": null,
      "id": "ea480e88-5386-4b57-9575-36cc680b3b04",
      "metadata": {
        "id": "ea480e88-5386-4b57-9575-36cc680b3b04"
      },
      "outputs": [],
      "source": [
        "from snowflake.snowpark import Session\n"
      ]
    },
    {
      "cell_type": "code",
      "execution_count": null,
      "id": "22616150-dba2-468b-9fa0-bbae40ffc4d6",
      "metadata": {
        "id": "22616150-dba2-468b-9fa0-bbae40ffc4d6"
      },
      "outputs": [],
      "source": [
        "connection_parameters = {\n",
        "  \"account\":  \"AQB01179.us-east-1\",\n",
        "  \"user\": \"surya123\",\n",
        "  \"password\": \"SuryaAdeem123@\",\n",
        "  \"role\": \"ACCOUNTADMIN\",\n",
        "  \"database\": \"SOC_DB\",\n",
        "  \"schema\": \"SOC_SCHEMA\",\n",
        "  \"warehouse\": \"COMPUTE_WH\"\n",
        "}"
      ]
    },
    {
      "cell_type": "code",
      "execution_count": null,
      "id": "25e43163-49b0-473a-b0f8-4dd501b9bbdf",
      "metadata": {
        "id": "25e43163-49b0-473a-b0f8-4dd501b9bbdf"
      },
      "outputs": [],
      "source": [
        "session = Session.builder.configs(connection_parameters).create()"
      ]
    },
    {
      "cell_type": "code",
      "execution_count": null,
      "id": "b1eebfdb-48e8-46e3-9855-70377a46e011",
      "metadata": {
        "id": "b1eebfdb-48e8-46e3-9855-70377a46e011"
      },
      "outputs": [],
      "source": [
        "class CortexSearchRetriever:\n",
        "    def __init__(self, snowpark_session: Session, limit_to_retrieve: int = 4):\n",
        "        self._snowpark_session = snowpark_session\n",
        "        self._limit_to_retrieve = limit_to_retrieve\n"
      ]
    },
    {
      "cell_type": "code",
      "execution_count": null,
      "id": "1ac297be-a03e-43c8-bbfc-2c4c6b713e75",
      "metadata": {
        "id": "1ac297be-a03e-43c8-bbfc-2c4c6b713e75"
      },
      "outputs": [],
      "source": [
        "import os\n",
        "from snowflake.core import Root\n",
        "from typing import List\n",
        "\n",
        "\n",
        "class CortexSearchRetriever:\n",
        "\n",
        "    def __init__(self, snowpark_session: Session, limit_to_retrieve: int = 4):\n",
        "        self._snowpark_session = snowpark_session\n",
        "        self._limit_to_retrieve = limit_to_retrieve\n",
        "\n",
        "    def retrieve(self, query: str) -> List[str]:\n",
        "        root = Root(self._snowpark_session)\n",
        "        cortex_search_service = (\n",
        "            root.databases[\"SOC_DB\"]\n",
        "            .schemas[\"SOC_SCHEMA\"]\n",
        "            .cortex_search_services[\"SOC_CORTEX_SEARCH_SERVICE\"]\n",
        "        )\n",
        "        resp = cortex_search_service.search(\n",
        "            query=query,\n",
        "            columns=[\"doc_text\"],\n",
        "            limit=self._limit_to_retrieve,\n",
        "        )\n",
        "\n",
        "        if resp.results:\n",
        "            return [curr[\"doc_text\"] for curr in resp.results]\n",
        "        else:\n",
        "            return []"
      ]
    },
    {
      "cell_type": "code",
      "execution_count": null,
      "id": "5b97cbdc-903b-4751-a2ab-4ed7d3480245",
      "metadata": {
        "id": "5b97cbdc-903b-4751-a2ab-4ed7d3480245"
      },
      "outputs": [],
      "source": [
        "snowpark_session = Session.builder.configs(connection_parameters).create()"
      ]
    },
    {
      "cell_type": "code",
      "execution_count": null,
      "id": "7841ac59-6fc8-4682-9a5b-11ccf65c6c7c",
      "metadata": {
        "id": "7841ac59-6fc8-4682-9a5b-11ccf65c6c7c"
      },
      "outputs": [],
      "source": [
        "retriever = CortexSearchRetriever(snowpark_session=snowpark_session, limit_to_retrieve=4)\n",
        "\n",
        "# Execute the retrieval method\n",
        "retrieved_context = retriever.retrieve(query=\"What do you know about NVD-CVES?\")"
      ]
    },
    {
      "cell_type": "code",
      "execution_count": null,
      "id": "778d09a2-eaa4-41ef-8f4c-a60b03e464d7",
      "metadata": {
        "colab": {
          "background_save": true
        },
        "collapsed": true,
        "id": "778d09a2-eaa4-41ef-8f4c-a60b03e464d7",
        "outputId": "bea71688-1085-4ddd-8a9c-e864998539a8"
      },
      "outputs": [
        {
          "name": "stderr",
          "output_type": "stream",
          "text": [
            "ERROR:root:Internal Python error in the inspect module.\n",
            "Below is the traceback from this internal error.\n",
            "\n",
            "Custom TB Handler failed, unregistering\n",
            "ERROR:root:Internal Python error in the inspect module.\n",
            "Below is the traceback from this internal error.\n",
            "\n",
            "ERROR:root:Internal Python error in the inspect module.\n",
            "Below is the traceback from this internal error.\n",
            "\n",
            "ERROR:root:Internal Python error in the inspect module.\n",
            "Below is the traceback from this internal error.\n",
            "\n"
          ]
        },
        {
          "name": "stdout",
          "output_type": "stream",
          "text": [
            "ModuleNotFoundError: No module named 'trulens.connectors'\n",
            "\n",
            "During handling of the above exception, another exception occurred:\n",
            "\n",
            "AssertionError\n",
            "ModuleNotFoundError: No module named 'trulens.connectors'\n",
            "\n",
            "During handling of the above exception, another exception occurred:\n",
            "\n",
            "TypeError: object of type 'NoneType' has no len()\n",
            "\n",
            "During handling of the above exception, another exception occurred:\n",
            "\n",
            "AssertionError\n",
            "ModuleNotFoundError: No module named 'trulens.connectors'\n",
            "\n",
            "During handling of the above exception, another exception occurred:\n",
            "\n",
            "TypeError: object of type 'NoneType' has no len()\n",
            "\n",
            "During handling of the above exception, another exception occurred:\n",
            "\n",
            "TypeError: object of type 'NoneType' has no len()\n",
            "\n",
            "During handling of the above exception, another exception occurred:\n",
            "\n",
            "AttributeError: 'TypeError' object has no attribute '_render_traceback_'\n",
            "\n",
            "During handling of the above exception, another exception occurred:\n",
            "\n",
            "AssertionError\n",
            "ModuleNotFoundError: No module named 'trulens.connectors'\n",
            "\n",
            "During handling of the above exception, another exception occurred:\n",
            "\n",
            "TypeError: object of type 'NoneType' has no len()\n",
            "\n",
            "During handling of the above exception, another exception occurred:\n",
            "\n",
            "TypeError: object of type 'NoneType' has no len()\n",
            "\n",
            "During handling of the above exception, another exception occurred:\n",
            "\n",
            "AttributeError: 'TypeError' object has no attribute '_render_traceback_'\n",
            "\n",
            "During handling of the above exception, another exception occurred:\n",
            "\n",
            "TypeError: object of type 'NoneType' has no len()\n",
            "\n",
            "During handling of the above exception, another exception occurred:\n",
            "\n",
            "AttributeError: 'TypeError' object has no attribute '_render_traceback_'\n",
            "\n",
            "During handling of the above exception, another exception occurred:\n",
            "\n",
            "AssertionError\n"
          ]
        }
      ],
      "source": [
        "from trulens.core import TruSession\n",
        "from trulens.connectors.snowflake import SnowflakeConnector\n",
        "\n",
        "tru_snowflake_connector = SnowflakeConnector(snowpark_session=snowpark_session)\n",
        "\n",
        "tru_session = TruSession(connector=tru_snowflake_connector)"
      ]
    },
    {
      "cell_type": "code",
      "execution_count": null,
      "id": "ae2d9950-5e9c-4bc0-acee-6a12af64009a",
      "metadata": {
        "id": "ae2d9950-5e9c-4bc0-acee-6a12af64009a"
      },
      "outputs": [],
      "source": [
        "class CortexSearchRetriever:\n",
        "    def __init__(self, snowpark_session: Session, limit_to_retrieve: int = 4):\n",
        "        self._snowpark_session = snowpark_session\n",
        "        self._limit_to_retrieve = limit_to_retrieve\n",
        "\n",
        "import os\n",
        "from snowflake.core import Root\n",
        "from typing import List\n",
        "\n",
        "\n",
        "class CortexSearchRetriever:\n",
        "\n",
        "    def __init__(self, snowpark_session: Session, limit_to_retrieve: int = 4):\n",
        "        self._snowpark_session = snowpark_session\n",
        "        self._limit_to_retrieve = limit_to_retrieve\n",
        "\n",
        "    def retrieve(self, query: str) -> List[str]:\n",
        "        root = Root(self._snowpark_session)\n",
        "        cortex_search_service = (\n",
        "            root.databases[\"SOC_DB\"]\n",
        "            .schemas[\"SOC_SCHEMA\"]\n",
        "            .cortex_search_services[\"SOC_CORTEX_SEARCH_SERVICE\"]\n",
        "        )\n",
        "        resp = cortex_search_service.search(\n",
        "            query=query,\n",
        "            columns=[\"doc_text\"],\n",
        "            limit=self._limit_to_retrieve,\n",
        "        )\n",
        "\n",
        "        if resp.results:\n",
        "            return [curr[\"doc_text\"] for curr in resp.results]\n",
        "        else:\n",
        "            return []\n",
        "\n",
        "snowpark_session = Session.builder.configs(connection_parameters).create()\n",
        "\n",
        "retriever = CortexSearchRetriever(snowpark_session=snowpark_session, limit_to_retrieve=4)\n",
        "\n",
        "# Execute the retrieval method\n",
        "retrieved_context = retriever.retrieve(query=\"What do you know about NVD-CVES?\")\n",
        "\n",
        "class RAG_from_scratch:\n",
        "    def __init__(self, snowpark_session, limit_to_retrieve=4):\n",
        "        self.retriever = CortexSearchRetriever(snowpark_session=snowpark_session, limit_to_retrieve=limit_to_retrieve)\n",
        "\n",
        "    def retrieve_context(self, query: str) -> list:\n",
        "        \"\"\"\n",
        "        Retrieve relevant text from vector store.\n",
        "        \"\"\"\n",
        "        return self.retriever.retrieve(query)\n",
        "\n",
        "    def generate_completion(self, query: str, context_list: list) -> str:\n",
        "        \"\"\"\n",
        "        Generate answer from context.\n",
        "        \"\"\"\n",
        "        # Join the context list into a single string\n",
        "        context_str = \" \".join(context_list)\n",
        "        prompt = f\"\"\"\n",
        "        You are an expert assistant extracting information from context provided.\n",
        "        Answer the question based on the context. Be concise and do not hallucinate.\n",
        "        If you don't have the information, just say so.\n",
        "        Context: {context_str}\n",
        "        Question:\n",
        "        {query}\n",
        "        Answer:\n",
        "        \"\"\"\n",
        "        # Assuming 'Complete' is a function that interacts with the LLM\n",
        "        return Complete(\"mistral-large\", prompt)\n",
        "\n",
        "    def query(self, query: str) -> str:\n",
        "        context_list = self.retrieve_context(query)\n",
        "        return self.generate_completion(query, context_list)\n",
        "\n",
        "# Initialize the RAG system with an existing Snowpark session\n",
        "rag = RAG_from_scratch(snowpark_session)"
      ]
    },
    {
      "cell_type": "code",
      "execution_count": null,
      "id": "b77487a1-29b5-41b3-a3ae-d16f8f9a3abf",
      "metadata": {
        "id": "b77487a1-29b5-41b3-a3ae-d16f8f9a3abf"
      },
      "outputs": [],
      "source": []
    }
  ],
  "metadata": {
    "colab": {
      "provenance": []
    },
    "kernelspec": {
      "display_name": "Python 3 (ipykernel)",
      "language": "python",
      "name": "python3"
    },
    "language_info": {
      "codemirror_mode": {
        "name": "ipython",
        "version": 3
      },
      "file_extension": ".py",
      "mimetype": "text/x-python",
      "name": "python",
      "nbconvert_exporter": "python",
      "pygments_lexer": "ipython3",
      "version": "3.10.12"
    }
  },
  "nbformat": 4,
  "nbformat_minor": 5
}